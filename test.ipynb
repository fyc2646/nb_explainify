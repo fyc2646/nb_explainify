{
 "cells": [
  {
   "cell_type": "code",
   "execution_count": null,
   "id": "f335331b",
   "metadata": {},
   "outputs": [],
   "source": [
    "import yfinance as yf\n",
    "import pandas as pd\n",
    "import matplotlib.pyplot as plt\n",
    "import numpy as np"
   ]
  },
  {
   "cell_type": "code",
   "execution_count": null,
   "id": "9d87c247",
   "metadata": {},
   "outputs": [],
   "source": [
    "x = input(\"Enter stock ticker: \")\n",
    "y = input(\"Enter start date (YYYY-MM-DD): \")\n",
    "z = input(\"Enter end date (YYYY-MM-DD): \")\n",
    "\n",
    "df = yf.download(x,start=y,end=z)"
   ]
  },
  {
   "cell_type": "code",
   "execution_count": null,
   "id": "52187f98-d53d-4241-8871-b8ea2f1b0ff3",
   "metadata": {},
   "outputs": [],
   "source": [
    "sma = df['Close'].rolling(window=20).mean()\n",
    "ema = df['Close'].ewm(span=20, adjust=False).mean()\n",
    "df['Daily Return'] = df['Close'].pct_change()\n",
    "df['Cumulative Return'] = (1 + df['Daily Return']).cumprod()\n"
   ]
  },
  {
   "cell_type": "code",
   "execution_count": null,
   "id": "3c26954e-37c2-46a6-81bd-6f86059a693d",
   "metadata": {},
   "outputs": [],
   "source": [
    "plt.figure(figsize=(10, 5))\n",
    "plt.plot(df['Close'])\n",
    "plt.plot(sma)\n",
    "plt.plot(ema)\n",
    "plt.show()\n",
    "\n",
    "plt.hist(df['Daily Return'].dropna(), bins=50)\n",
    "plt.show()\n",
    "\n",
    "mean_return = df['Daily Return'].mean()\n",
    "std_dev = df['Daily Return'].std()\n",
    "max_drawdown = ((df['Close'] / df['Close'].cummax()) - 1).min()\n",
    "print(\"Mean Return:\", mean_return)\n",
    "print(\"Std Dev:\", std_dev)\n",
    "print(\"Max Drawdown:\", max_drawdown)"
   ]
  }
 ],
 "metadata": {
  "kernelspec": {
   "display_name": "Python 3 (ipykernel)",
   "language": "python",
   "name": "python3"
  },
  "language_info": {
   "codemirror_mode": {
    "name": "ipython",
    "version": 3
   },
   "file_extension": ".py",
   "mimetype": "text/x-python",
   "name": "python",
   "nbconvert_exporter": "python",
   "pygments_lexer": "ipython3",
   "version": "3.11.0"
  }
 },
 "nbformat": 4,
 "nbformat_minor": 5
}
